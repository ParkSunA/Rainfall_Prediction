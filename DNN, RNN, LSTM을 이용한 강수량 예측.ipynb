{
 "cells": [
  {
   "cell_type": "markdown",
   "metadata": {},
   "source": [
    "이전 기온 예측 프로젝트에선 모델은 Dense층을 쌓아 구현한 DNN으로 학습, 예측을 진행하였다.  \n",
    "그런데 기상 데이터는 시퀀스 데이터로 시계열성을 갖는다.  \n",
    "시계열 데이터에 적합한 모델인 RNN과 LSTM을 이용하여 학습, 예측을 비교하여 성능을 비교해보려한다.  "
   ]
  },
  {
   "cell_type": "code",
   "execution_count": 1,
   "metadata": {},
   "outputs": [],
   "source": [
    "import pandas as pd\n",
    "import numpy as np\n",
    "import matplotlib.pyplot as plt"
   ]
  },
  {
   "cell_type": "code",
   "execution_count": 2,
   "metadata": {},
   "outputs": [],
   "source": [
    "# 데이터 불러오기\n",
    "data = pd.read_csv('OBS_ASOS_DD_20210104225316.csv', encoding = 'cp949')  # 2020-01-01~2010-01-01\n",
    "data1 = pd.read_csv('OBS_ASOS_DD_20210104225407.csv', encoding = 'cp949') # 2010-01-02~2020-01-02\n",
    "data2 = pd.read_csv('OBS_ASOS_DD_20210104225442.csv', encoding = 'cp949') # 2020-01-03~2021-01-03\n",
    "\n",
    "data = pd.concat([data,data1,data2],axis=0).reset_index().drop('index',axis=1)"
   ]
  },
  {
   "cell_type": "code",
   "execution_count": 3,
   "metadata": {},
   "outputs": [
    {
     "name": "stdout",
     "output_type": "stream",
     "text": [
      "데이터 개수 = 7674\n",
      "데이터 컬럼 개수 = 62\n"
     ]
    },
    {
     "data": {
      "text/plain": [
       "Index(['지점', '지점명', '일시', '평균기온(°C)', '최저기온(°C)', '최저기온 시각(hhmi)', '최고기온(°C)',\n",
       "       '최고기온 시각(hhmi)', '강수 계속시간(hr)', '10분 최다 강수량(mm)', '10분 최다강수량 시각(hhmi)',\n",
       "       '1시간 최다강수량(mm)', '1시간 최다 강수량 시각(hhmi)', '일강수량(mm)', '최대 순간 풍속(m/s)',\n",
       "       '최대 순간 풍속 풍향(16방위)', '최대 순간풍속 시각(hhmi)', '최대 풍속(m/s)', '최대 풍속 풍향(16방위)',\n",
       "       '최대 풍속 시각(hhmi)', '평균 풍속(m/s)', '풍정합(100m)', '최다풍향(16방위)',\n",
       "       '평균 이슬점온도(°C)', '최소 상대습도(%)', '최소 상대습도 시각(hhmi)', '평균 상대습도(%)',\n",
       "       '평균 증기압(hPa)', '평균 현지기압(hPa)', '최고 해면기압(hPa)', '최고 해면기압 시각(hhmi)',\n",
       "       '최저 해면기압(hPa)', '최저 해면기압 시각(hhmi)', '평균 해면기압(hPa)', '가조시간(hr)',\n",
       "       '합계 일조시간(hr)', '1시간 최다일사 시각(hhmi)', '1시간 최다일사량(MJ/m2)', '합계 일사량(MJ/m2)',\n",
       "       '일 최심신적설(cm)', '일 최심신적설 시각(hhmi)', '일 최심적설(cm)', '일 최심적설 시각(hhmi)',\n",
       "       '합계 3시간 신적설(cm)', '평균 전운량(1/10)', '평균 중하층운량(1/10)', '평균 지면온도(°C)',\n",
       "       '최저 초상온도(°C)', '평균 5cm 지중온도(°C)', '평균 10cm 지중온도(°C)',\n",
       "       '평균 20cm 지중온도(°C)', '평균 30cm 지중온도(°C)', '0.5m 지중온도(°C)',\n",
       "       '1.0m 지중온도(°C)', '1.5m 지중온도(°C)', '3.0m 지중온도(°C)', '5.0m 지중온도(°C)',\n",
       "       '합계 대형증발량(mm)', '합계 소형증발량(mm)', '9-9강수(mm)', '기사', '안개 계속시간(hr)'],\n",
       "      dtype='object')"
      ]
     },
     "execution_count": 3,
     "metadata": {},
     "output_type": "execute_result"
    }
   ],
   "source": [
    "print('데이터 개수 =', len(data))\n",
    "print('데이터 컬럼 개수 =', len(data.columns))\n",
    "data.columns"
   ]
  },
  {
   "cell_type": "code",
   "execution_count": 4,
   "metadata": {},
   "outputs": [
    {
     "name": "stdout",
     "output_type": "stream",
     "text": [
      "결측치 개수 = 0\n"
     ]
    }
   ],
   "source": [
    "# 데이터 전처리  \n",
    "# 강수, 적설량과 관련된 변수는 0으로 결측 채우기  \n",
    "rain_col = [i for i in data.columns if '강수' in i]\n",
    "snow_col = [i for i in data.columns if '적설' in i]\n",
    "\n",
    "data[rain_col+snow_col] = data[rain_col+snow_col].fillna(0)\n",
    "\n",
    "data[['안개 계속시간(hr)','합계 대형증발량(mm)','합계 소형증발량(mm)']] = data[['안개 계속시간(hr)','합계 대형증발량(mm)','합계 소형증발량(mm)']].fillna(0)\n",
    "\n",
    "# 사용하지 않는 컬럼 버리기\n",
    "data = data.drop(['기사','강수 계속시간(hr)','10분 최다 강수량(mm)'],axis=1)\n",
    "\n",
    "time_col=[i for i in data.columns if '시각' in i]\n",
    "data = data.drop(time_col, axis=1)\n",
    "\n",
    "data = data.drop(['지점','지점명'], axis=1)\n",
    "\n",
    "# 시간 순서로 학습시키기 위해 시간 정렬\n",
    "data = data.sort_values('일시').interpolate(method='linear')\n",
    "\n",
    "# 보간 후 결측치 없음을 확인\n",
    "print('결측치 개수 =',data.isna().sum().sum())"
   ]
  },
  {
   "cell_type": "code",
   "execution_count": 5,
   "metadata": {},
   "outputs": [
    {
     "name": "stdout",
     "output_type": "stream",
     "text": [
      " train set: 4749 개\n",
      " valid set: 1461 개\n",
      " test set 1462 개\n"
     ]
    }
   ],
   "source": [
    "# 라벨값 설정\n",
    "data['Y'] = data['일강수량(mm)'].shift(-2)\n",
    "data = data.dropna()\n",
    "\n",
    "# train, valid, test dataset 분리\n",
    "train = data[data['일시']<'2013-01-01']\n",
    "valid = data[data['일시']>='2013-01-01']\n",
    "valid = valid[valid['일시']<'2017-01-01']\n",
    "test = data[data['일시']>='2017-01-01']\n",
    "print(' train set:',len(train),'개\\n',\n",
    "      'valid set:',len(valid),'개\\n',\n",
    "      'test set',len(test),'개')\n",
    "\n",
    "# X와 Y분리\n",
    "trainX,trainY = train.drop(['일시','Y'],axis=1), train['Y']\n",
    "validX,validY = valid.drop(['일시','Y'],axis=1), valid['Y']\n",
    "testX,testY = test.drop(['일시','Y'],axis=1), test['Y']"
   ]
  },
  {
   "cell_type": "code",
   "execution_count": 6,
   "metadata": {},
   "outputs": [
    {
     "name": "stderr",
     "output_type": "stream",
     "text": [
      "Using TensorFlow backend.\n"
     ]
    }
   ],
   "source": [
    "import tensorflow as tf\n",
    "from tensorflow import keras\n",
    "from tensorflow.keras import layers\n",
    "from keras.callbacks import ModelCheckpoint, EarlyStopping, ReduceLROnPlateau"
   ]
  },
  {
   "cell_type": "markdown",
   "metadata": {},
   "source": [
    "#### DNN"
   ]
  },
  {
   "cell_type": "code",
   "execution_count": 7,
   "metadata": {},
   "outputs": [
    {
     "name": "stdout",
     "output_type": "stream",
     "text": [
      "Model: \"model\"\n",
      "_________________________________________________________________\n",
      "Layer (type)                 Output Shape              Param #   \n",
      "=================================================================\n",
      "input_1 (InputLayer)         [(None, 44)]              0         \n",
      "_________________________________________________________________\n",
      "dense (Dense)                (None, 50)                2250      \n",
      "_________________________________________________________________\n",
      "dense_1 (Dense)              (None, 50)                2550      \n",
      "_________________________________________________________________\n",
      "dense_2 (Dense)              (None, 50)                2550      \n",
      "_________________________________________________________________\n",
      "dense_3 (Dense)              (None, 50)                2550      \n",
      "_________________________________________________________________\n",
      "dense_4 (Dense)              (None, 1)                 51        \n",
      "=================================================================\n",
      "Total params: 9,951\n",
      "Trainable params: 9,951\n",
      "Non-trainable params: 0\n",
      "_________________________________________________________________\n"
     ]
    }
   ],
   "source": [
    "inputs_1 = tf.keras.Input(shape=44)\n",
    "dense = tf.keras.layers.Dense(50)(inputs_1)\n",
    "dense = tf.keras.layers.Dense(50)(dense)\n",
    "dense = tf.keras.layers.Dense(50)(dense)\n",
    "dense = tf.keras.layers.Dense(50)(dense)\n",
    "output = tf.keras.layers.Dense(1)(dense)\n",
    "\n",
    "DNN = tf.keras.Model(inputs=[inputs_1], outputs=output)\n",
    "\n",
    "optimizer = tf.keras.optimizers.Adam(lr = 0.001)\n",
    "\n",
    "DNN.compile(loss='mse', optimizer=optimizer)\n",
    "DNN.summary()"
   ]
  },
  {
   "cell_type": "code",
   "execution_count": 12,
   "metadata": {
    "collapsed": true
   },
   "outputs": [
    {
     "name": "stdout",
     "output_type": "stream",
     "text": [
      "Train on 4749 samples, validate on 1461 samples\n",
      "Epoch 1/200\n",
      "3720/4749 [======================>.......] - ETA: 0s - loss: 288.5079\n",
      "Epoch 00001: val_loss improved from inf to 100.77299, saving model to checkpoint.keras\n",
      "4749/4749 [==============================] - 0s 82us/sample - loss: 272.4553 - val_loss: 100.7730\n",
      "Epoch 2/200\n",
      "4080/4749 [========================>.....] - ETA: 0s - loss: 230.4407\n",
      "Epoch 00002: val_loss improved from 100.77299 to 100.77283, saving model to checkpoint.keras\n",
      "\n",
      "Epoch 00002: ReduceLROnPlateau reducing learning rate to 1.0000001111620805e-07.\n",
      "4749/4749 [==============================] - 0s 46us/sample - loss: 272.4554 - val_loss: 100.7728\n",
      "Epoch 3/200\n",
      "3990/4749 [========================>.....] - ETA: 0s - loss: 274.0387\n",
      "Epoch 00003: val_loss did not improve from 100.77283\n",
      "4749/4749 [==============================] - 0s 45us/sample - loss: 272.4547 - val_loss: 100.7735\n",
      "Epoch 4/200\n",
      "4380/4749 [==========================>...] - ETA: 0s - loss: 272.0636\n",
      "Epoch 00004: val_loss did not improve from 100.77283\n",
      "\n",
      "Epoch 00004: ReduceLROnPlateau reducing learning rate to 1.000000082740371e-08.\n",
      "4749/4749 [==============================] - 0s 46us/sample - loss: 272.4547 - val_loss: 100.7741\n",
      "Epoch 5/200\n",
      "4380/4749 [==========================>...] - ETA: 0s - loss: 269.0614\n",
      "Epoch 00005: val_loss did not improve from 100.77283\n",
      "4749/4749 [==============================] - 0s 43us/sample - loss: 272.4546 - val_loss: 100.7741\n",
      "Epoch 6/200\n",
      "4260/4749 [=========================>....] - ETA: 0s - loss: 284.2743\n",
      "Epoch 00006: val_loss did not improve from 100.77283\n",
      "\n",
      "Epoch 00006: ReduceLROnPlateau reducing learning rate to 1.000000082740371e-09.\n",
      "4749/4749 [==============================] - 0s 43us/sample - loss: 272.4546 - val_loss: 100.7741\n",
      "Epoch 7/200\n",
      "3240/4749 [===================>..........] - ETA: 0s - loss: 244.4594\n",
      "Epoch 00007: val_loss did not improve from 100.77283\n",
      "\n",
      "Epoch 00007: ReduceLROnPlateau reducing learning rate to 1.000000082740371e-10.\n",
      "4749/4749 [==============================] - 0s 38us/sample - loss: 272.4546 - val_loss: 100.7741\n",
      "Epoch 8/200\n",
      "4740/4749 [============================>.] - ETA: 0s - loss: 272.9358\n",
      "Epoch 00008: val_loss did not improve from 100.77283\n",
      "\n",
      "Epoch 00008: ReduceLROnPlateau reducing learning rate to 1.000000082740371e-11.\n",
      "4749/4749 [==============================] - 0s 41us/sample - loss: 272.4546 - val_loss: 100.7741\n",
      "Epoch 9/200\n",
      "4680/4749 [============================>.] - ETA: 0s - loss: 271.2182\n",
      "Epoch 00009: val_loss did not improve from 100.77283\n",
      "\n",
      "Epoch 00009: ReduceLROnPlateau reducing learning rate to 1.000000082740371e-12.\n",
      "4749/4749 [==============================] - 0s 41us/sample - loss: 272.4546 - val_loss: 100.7741\n",
      "Epoch 10/200\n",
      "4680/4749 [============================>.] - ETA: 0s - loss: 253.9413\n",
      "Epoch 00010: val_loss did not improve from 100.77283\n",
      "\n",
      "Epoch 00010: ReduceLROnPlateau reducing learning rate to 1.0000001044244145e-13.\n",
      "4749/4749 [==============================] - 0s 41us/sample - loss: 272.4546 - val_loss: 100.7741\n",
      "Epoch 11/200\n",
      "3360/4749 [====================>.........] - ETA: 0s - loss: 229.7105\n",
      "Epoch 00011: val_loss did not improve from 100.77283\n",
      "\n",
      "Epoch 00011: ReduceLROnPlateau reducing learning rate to 1.0000001179769417e-14.\n",
      "4749/4749 [==============================] - 0s 37us/sample - loss: 272.4546 - val_loss: 100.7741\n",
      "Epoch 12/200\n",
      "4410/4749 [==========================>...] - ETA: 0s - loss: 270.2077\n",
      "Epoch 00012: val_loss did not improve from 100.77283\n",
      "\n",
      "Epoch 00012: ReduceLROnPlateau reducing learning rate to 1.0000001518582595e-15.\n",
      "4749/4749 [==============================] - 0s 42us/sample - loss: 272.4546 - val_loss: 100.7741\n"
     ]
    },
    {
     "data": {
      "image/png": "[encoded data removed]",
      "text/plain": [
       "<Figure size 432x288 with 1 Axes>"
      ]
     },
     "metadata": {
      "needs_background": "light"
     },
     "output_type": "display_data"
    }
   ],
   "source": [
    "path_checkpoint = 'checkpoint.keras'\n",
    "callback_checkpoint = ModelCheckpoint(filepath=path_checkpoint,\n",
    "                                      monitor='val_loss',\n",
    "                                      verbose=1,\n",
    "                                      save_weights_only=True,\n",
    "                                      save_best_only=True)\n",
    "\n",
    "callback_early_stopping = EarlyStopping(monitor='val_loss', patience=10,verbose=0)\n",
    "\n",
    "\n",
    "callback_reduce_lr = ReduceLROnPlateau(monitor='loss',\n",
    "                                       factor=0.1,\n",
    "                                       patience=1,\n",
    "                                       verbose=1)\n",
    "\n",
    "callbacks = [callback_early_stopping,\n",
    "             callback_checkpoint,\n",
    "             callback_reduce_lr]\n",
    "hist = DNN.fit(trainX,trainY, validation_data=(validX, validY), \n",
    "                 epochs = 200, batch_size=30, callbacks=callbacks, verbose=1)\n",
    "\n",
    "fig, loss_ax = plt.subplots()\n",
    "\n",
    "loss_ax.plot(hist.history['loss'], 'y', label='train loss')\n",
    "loss_ax.plot(hist.history['val_loss'], 'r', label='val loss')\n",
    "\n",
    "loss_ax.set_xlabel('epoch')\n",
    "loss_ax.set_ylabel('loss')\n",
    "\n",
    "loss_ax.legend(loc='upper left')\n",
    "\n",
    "plt.show()"
   ]
  },
  {
   "cell_type": "markdown",
   "metadata": {},
   "source": [
    "#### RNN  \n",
    "RNN의 경우 입력 데이터 형태가 3차원이 되어야 한다.  \n",
    "input shape = (Batch size, timesteps, input_dim)  \n",
    "Bath size는 한번에 학습되는 데이터 개수  \n",
    "timesteps는 데이터의 시퀀스 길이  \n",
    "input_dim은 feature 개수  \n",
    "이다  "
   ]
  },
  {
   "cell_type": "code",
   "execution_count": 13,
   "metadata": {},
   "outputs": [
    {
     "name": "stdout",
     "output_type": "stream",
     "text": [
      "Model: \"model_3\"\n",
      "_________________________________________________________________\n",
      "Layer (type)                 Output Shape              Param #   \n",
      "=================================================================\n",
      "input_4 (InputLayer)         [(None, 1, 44)]           0         \n",
      "_________________________________________________________________\n",
      "simple_rnn_2 (SimpleRNN)     (None, 1, 100)            14500     \n",
      "_________________________________________________________________\n",
      "simple_rnn_3 (SimpleRNN)     (None, 100)               20100     \n",
      "_________________________________________________________________\n",
      "dense_7 (Dense)              (None, 1)                 101       \n",
      "=================================================================\n",
      "Total params: 34,701\n",
      "Trainable params: 34,701\n",
      "Non-trainable params: 0\n",
      "_________________________________________________________________\n"
     ]
    }
   ],
   "source": [
    "inputs_1 = tf.keras.Input(shape=(1,44))\n",
    "rnn = tf.keras.layers.SimpleRNN(100, return_sequences=True)(inputs_1)\n",
    "rnn = tf.keras.layers.SimpleRNN(100, return_sequences=False)(rnn)\n",
    "output = tf.keras.layers.Dense(1)(rnn)\n",
    "\n",
    "RNN = tf.keras.Model(inputs=[inputs_1], outputs=output)\n",
    "\n",
    "optimizer = tf.keras.optimizers.Adam(lr = 0.001)\n",
    "\n",
    "RNN.compile(loss='mse', optimizer=optimizer)\n",
    "RNN.summary()"
   ]
  },
  {
   "cell_type": "code",
   "execution_count": 14,
   "metadata": {
    "collapsed": true
   },
   "outputs": [
    {
     "name": "stdout",
     "output_type": "stream",
     "text": [
      "Train on 4749 samples, validate on 1461 samples\n",
      "Epoch 1/200\n",
      "4440/4749 [===========================>..] - ETA: 0s - loss: 291.5891\n",
      "Epoch 00001: val_loss improved from inf to 102.38526, saving model to checkpoint.keras\n",
      "4749/4749 [==============================] - 1s 268us/sample - loss: 290.4819 - val_loss: 102.3853\n",
      "Epoch 2/200\n",
      "4560/4749 [===========================>..] - ETA: 0s - loss: 299.0507\n",
      "Epoch 00002: val_loss improved from 102.38526 to 100.30085, saving model to checkpoint.keras\n",
      "4749/4749 [==============================] - 0s 68us/sample - loss: 289.8844 - val_loss: 100.3008\n",
      "Epoch 3/200\n",
      "4470/4749 [===========================>..] - ETA: 0s - loss: 284.7547\n",
      "Epoch 00003: val_loss did not improve from 100.30085\n",
      "\n",
      "Epoch 00003: ReduceLROnPlateau reducing learning rate to 0.00010000000474974513.\n",
      "4749/4749 [==============================] - 0s 67us/sample - loss: 290.0669 - val_loss: 104.1716\n",
      "Epoch 4/200\n",
      "4560/4749 [===========================>..] - ETA: 0s - loss: 273.3303\n",
      "Epoch 00004: val_loss did not improve from 100.30085\n",
      "4749/4749 [==============================] - 0s 66us/sample - loss: 288.6261 - val_loss: 101.9703\n",
      "Epoch 5/200\n",
      "4560/4749 [===========================>..] - ETA: 0s - loss: 284.3178\n",
      "Epoch 00005: val_loss did not improve from 100.30085\n",
      "4749/4749 [==============================] - 0s 65us/sample - loss: 288.4424 - val_loss: 101.5321\n",
      "Epoch 6/200\n",
      "4320/4749 [==========================>...] - ETA: 0s - loss: 267.6054\n",
      "Epoch 00006: val_loss did not improve from 100.30085\n",
      "4749/4749 [==============================] - 0s 68us/sample - loss: 288.4160 - val_loss: 101.6995\n",
      "Epoch 7/200\n",
      "4560/4749 [===========================>..] - ETA: 0s - loss: 289.1097\n",
      "Epoch 00007: val_loss did not improve from 100.30085\n",
      "4749/4749 [==============================] - 0s 66us/sample - loss: 288.3012 - val_loss: 101.4395\n",
      "Epoch 8/200\n",
      "4590/4749 [===========================>..] - ETA: 0s - loss: 293.4858\n",
      "Epoch 00008: val_loss did not improve from 100.30085\n",
      "4749/4749 [==============================] - 0s 65us/sample - loss: 288.2723 - val_loss: 101.6527\n",
      "Epoch 9/200\n",
      "4710/4749 [============================>.] - ETA: 0s - loss: 286.2207\n",
      "Epoch 00009: val_loss did not improve from 100.30085\n",
      "4749/4749 [==============================] - 0s 65us/sample - loss: 288.1823 - val_loss: 101.3841\n",
      "Epoch 10/200\n",
      "4560/4749 [===========================>..] - ETA: 0s - loss: 293.3203\n",
      "Epoch 00010: val_loss did not improve from 100.30085\n",
      "4749/4749 [==============================] - 0s 65us/sample - loss: 288.0516 - val_loss: 101.7468\n",
      "Epoch 11/200\n",
      "4650/4749 [============================>.] - ETA: 0s - loss: 288.4673\n",
      "Epoch 00011: val_loss did not improve from 100.30085\n",
      "4749/4749 [==============================] - 0s 65us/sample - loss: 287.9878 - val_loss: 101.9359\n",
      "Epoch 12/200\n",
      "4560/4749 [===========================>..] - ETA: 0s - loss: 293.3200\n",
      "Epoch 00012: val_loss did not improve from 100.30085\n",
      "4749/4749 [==============================] - 0s 65us/sample - loss: 287.9425 - val_loss: 101.5326\n"
     ]
    },
    {
     "data": {
      "image/png": "[encoded data removed]",
      "text/plain": [
       "<Figure size 432x288 with 1 Axes>"
      ]
     },
     "metadata": {
      "needs_background": "light"
     },
     "output_type": "display_data"
    }
   ],
   "source": [
    "path_checkpoint = 'checkpoint.keras'\n",
    "callback_checkpoint = ModelCheckpoint(filepath=path_checkpoint,\n",
    "                                      monitor='val_loss',\n",
    "                                      verbose=1,\n",
    "                                      save_weights_only=True,\n",
    "                                      save_best_only=True)\n",
    "\n",
    "callback_early_stopping = EarlyStopping(monitor='val_loss', patience=10,verbose=0)\n",
    "\n",
    "\n",
    "callback_reduce_lr = ReduceLROnPlateau(monitor='loss',\n",
    "                                       factor=0.1,\n",
    "                                       patience=1,\n",
    "                                       verbose=1)\n",
    "\n",
    "callbacks = [callback_early_stopping,\n",
    "             callback_checkpoint,\n",
    "             callback_reduce_lr]\n",
    "hist = RNN.fit(trainX.values.reshape(-1,1,44),trainY, validation_data=(validX.values.reshape(-1,1,44), validY), \n",
    "                 epochs = 200, batch_size=30, callbacks=callbacks, verbose=1)\n",
    "\n",
    "fig, loss_ax = plt.subplots()\n",
    "\n",
    "loss_ax.plot(hist.history['loss'], 'y', label='train loss')\n",
    "loss_ax.plot(hist.history['val_loss'], 'r', label='val loss')\n",
    "\n",
    "loss_ax.set_xlabel('epoch')\n",
    "loss_ax.set_ylabel('loss')\n",
    "\n",
    "loss_ax.legend(loc='upper left')\n",
    "\n",
    "plt.show()"
   ]
  },
  {
   "cell_type": "markdown",
   "metadata": {},
   "source": [
    "#### LSTM  \n",
    "LSTM도 RNN과 같이 입력 데이터 형태가 3차원이 되어야 한다.  \n",
    "input shape = (Batch size, timesteps, input_dim)  "
   ]
  },
  {
   "cell_type": "code",
   "execution_count": 15,
   "metadata": {
    "collapsed": true
   },
   "outputs": [
    {
     "name": "stdout",
     "output_type": "stream",
     "text": [
      "Model: \"model_4\"\n",
      "_________________________________________________________________\n",
      "Layer (type)                 Output Shape              Param #   \n",
      "=================================================================\n",
      "input_5 (InputLayer)         [(None, 1, 44)]           0         \n",
      "_________________________________________________________________\n",
      "lstm_2 (LSTM)                (None, 1, 100)            58000     \n",
      "_________________________________________________________________\n",
      "lstm_3 (LSTM)                (None, 100)               80400     \n",
      "_________________________________________________________________\n",
      "dense_8 (Dense)              (None, 1)                 101       \n",
      "=================================================================\n",
      "Total params: 138,501\n",
      "Trainable params: 138,501\n",
      "Non-trainable params: 0\n",
      "_________________________________________________________________\n",
      "Train on 4749 samples, validate on 1461 samples\n",
      "Epoch 1/200\n",
      "4410/4749 [==========================>...] - ETA: 0s - loss: 301.2255\n",
      "Epoch 00001: val_loss improved from inf to 101.22015, saving model to checkpoint.keras\n",
      "4749/4749 [==============================] - 3s 592us/sample - loss: 294.2116 - val_loss: 101.2202\n",
      "Epoch 2/200\n",
      "4530/4749 [===========================>..] - ETA: 0s - loss: 291.0867\n",
      "Epoch 00002: val_loss did not improve from 101.22015\n",
      "4749/4749 [==============================] - 1s 116us/sample - loss: 289.7068 - val_loss: 102.5747\n",
      "Epoch 3/200\n",
      "4500/4749 [===========================>..] - ETA: 0s - loss: 294.8538\n",
      "Epoch 00003: val_loss did not improve from 101.22015\n",
      "4749/4749 [==============================] - 1s 115us/sample - loss: 289.3100 - val_loss: 102.9049\n",
      "Epoch 4/200\n",
      "4530/4749 [===========================>..] - ETA: 0s - loss: 298.1447\n",
      "Epoch 00004: val_loss did not improve from 101.22015\n",
      "4749/4749 [==============================] - 1s 115us/sample - loss: 289.0707 - val_loss: 101.8042\n",
      "Epoch 5/200\n",
      "4500/4749 [===========================>..] - ETA: 0s - loss: 291.7219\n",
      "Epoch 00005: val_loss did not improve from 101.22015\n",
      "4749/4749 [==============================] - 1s 116us/sample - loss: 288.4975 - val_loss: 103.1624\n",
      "Epoch 6/200\n",
      "4470/4749 [===========================>..] - ETA: 0s - loss: 297.7840\n",
      "Epoch 00006: val_loss did not improve from 101.22015\n",
      "\n",
      "Epoch 00006: ReduceLROnPlateau reducing learning rate to 0.00010000000474974513.\n",
      "4749/4749 [==============================] - 1s 117us/sample - loss: 288.9357 - val_loss: 102.9808\n",
      "Epoch 7/200\n",
      "4530/4749 [===========================>..] - ETA: 0s - loss: 280.0027\n",
      "Epoch 00007: val_loss did not improve from 101.22015\n",
      "4749/4749 [==============================] - 1s 117us/sample - loss: 288.0485 - val_loss: 102.2325\n",
      "Epoch 8/200\n",
      "4590/4749 [===========================>..] - ETA: 0s - loss: 291.2325\n",
      "Epoch 00008: val_loss did not improve from 101.22015\n",
      "4749/4749 [==============================] - 1s 129us/sample - loss: 288.0312 - val_loss: 102.1997\n",
      "Epoch 9/200\n",
      "4410/4749 [==========================>...] - ETA: 0s - loss: 293.8633\n",
      "Epoch 00009: val_loss did not improve from 101.22015\n",
      "4749/4749 [==============================] - 1s 134us/sample - loss: 287.7079 - val_loss: 101.8252\n",
      "Epoch 10/200\n",
      "4380/4749 [==========================>...] - ETA: 0s - loss: 271.7714\n",
      "Epoch 00010: val_loss did not improve from 101.22015\n",
      "4749/4749 [==============================] - 1s 134us/sample - loss: 287.5852 - val_loss: 101.7731\n",
      "Epoch 11/200\n",
      "4350/4749 [==========================>...] - ETA: 0s - loss: 282.6677\n",
      "Epoch 00011: val_loss did not improve from 101.22015\n",
      "4749/4749 [==============================] - 1s 135us/sample - loss: 287.3844 - val_loss: 101.9825\n"
     ]
    },
    {
     "data": {
      "image/png": "[encoded data removed]",
      "text/plain": [
       "<Figure size 432x288 with 1 Axes>"
      ]
     },
     "metadata": {
      "needs_background": "light"
     },
     "output_type": "display_data"
    }
   ],
   "source": [
    "inputs_1 = tf.keras.Input(shape=(1,44))\n",
    "lstm = tf.keras.layers.LSTM(100, return_sequences=True)(inputs_1)\n",
    "lstm = tf.keras.layers.LSTM(100, return_sequences=False)(lstm)\n",
    "output = tf.keras.layers.Dense(1)(lstm)\n",
    "\n",
    "LSTM = tf.keras.Model(inputs=[inputs_1], outputs=output)\n",
    "\n",
    "optimizer = tf.keras.optimizers.Adam(lr = 0.001)\n",
    "\n",
    "LSTM.compile(loss='mse', optimizer=optimizer)\n",
    "LSTM.summary()\n",
    "\n",
    "path_checkpoint = 'checkpoint.keras'\n",
    "callback_checkpoint = ModelCheckpoint(filepath=path_checkpoint,\n",
    "                                      monitor='val_loss',\n",
    "                                      verbose=1,\n",
    "                                      save_weights_only=True,\n",
    "                                      save_best_only=True)\n",
    "\n",
    "callback_early_stopping = EarlyStopping(monitor='val_loss', patience=10,verbose=0)\n",
    "\n",
    "\n",
    "callback_reduce_lr = ReduceLROnPlateau(monitor='loss',\n",
    "                                       factor=0.1,\n",
    "                                       patience=1,\n",
    "                                       verbose=1)\n",
    "\n",
    "callbacks = [callback_early_stopping,\n",
    "             callback_checkpoint,\n",
    "             callback_reduce_lr]\n",
    "hist = LSTM.fit(trainX.values.reshape(-1,1,44),trainY, validation_data=(validX.values.reshape(-1,1,44), validY), \n",
    "                 epochs = 200, batch_size=30, callbacks=callbacks, verbose=1)\n",
    "\n",
    "fig, loss_ax = plt.subplots()\n",
    "\n",
    "loss_ax.plot(hist.history['loss'], 'y', label='train loss')\n",
    "loss_ax.plot(hist.history['val_loss'], 'r', label='val loss')\n",
    "\n",
    "loss_ax.set_xlabel('epoch')\n",
    "loss_ax.set_ylabel('loss')\n",
    "\n",
    "loss_ax.legend(loc='upper left')\n",
    "\n",
    "plt.show()"
   ]
  },
  {
   "cell_type": "code",
   "execution_count": 21,
   "metadata": {
    "scrolled": true
   },
   "outputs": [
    {
     "name": "stdout",
     "output_type": "stream",
     "text": [
      "MAE\n",
      "MAE_DNN =  6.1337370219944924\n",
      "MAE_RNN =  6.319306141765923\n",
      "MAE_LSTM =  6.366520909571615\n"
     ]
    },
    {
     "data": {
      "image/png": "[encoded data removed]",
      "text/plain": [
       "<Figure size 1080x216 with 1 Axes>"
      ]
     },
     "metadata": {
      "needs_background": "light"
     },
     "output_type": "display_data"
    }
   ],
   "source": [
    "time = pd.to_datetime(test['일시'])\n",
    "\n",
    "pred_DNN = DNN.predict(testX)\n",
    "pred_RNN = RNN.predict(testX.values.reshape(-1,1,44)).reshape(-1,)\n",
    "pred_LSTM = LSTM.predict(testX.values.reshape(-1,1,44))\n",
    "\n",
    "\n",
    "plt.figure(figsize = (15,3))\n",
    "plt.plot(time,testY.reset_index()['Y'])\n",
    "plt.plot(time,pred_DNN)\n",
    "plt.plot(time,pred_RNN)\n",
    "plt.plot(time,pred_LSTM)\n",
    "\n",
    "plt.ylabel('Temperature')\n",
    "plt.legend(['real','DNN','RNN','LSTM'])\n",
    "\n",
    "print('MAE')\n",
    "print('MAE_DNN = ',(((testY-pred_DNN.reshape(-1,))**2)**0.5).mean())\n",
    "print('MAE_RNN = ',(((testY-pred_RNN.reshape(-1,))**2)**0.5).mean())\n",
    "print('MAE_LSTM = ',(((testY-pred_LSTM.reshape(-1,))**2)**0.5).mean())"
   ]
  },
  {
   "cell_type": "markdown",
   "metadata": {},
   "source": [
    "계절에 따라 일정한 패턴을 갖는 온도와 달리 강수량은 일정한 패턴을 갖지 않아 학습이 어렵다  \n",
    "여름철에 증가하는 것도 패턴이라고 할 수 있지만 매년 총 강수량은 달라 이를 예측하기 어렵다  "
   ]
  },
  {
   "cell_type": "code",
   "execution_count": null,
   "metadata": {},
   "outputs": [],
   "source": []
  }
 ],
 "metadata": {
  "kernelspec": {
   "display_name": "Python 3",
   "language": "python",
   "name": "python3"
  },
  "language_info": {
   "codemirror_mode": {
    "name": "ipython",
    "version": 3
   },
   "file_extension": ".py",
   "mimetype": "text/x-python",
   "name": "python",
   "nbconvert_exporter": "python",
   "pygments_lexer": "ipython3",
   "version": "3.7.6"
  }
 },
 "nbformat": 4,
 "nbformat_minor": 4
}
